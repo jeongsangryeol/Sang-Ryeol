{
  "nbformat": 4,
  "nbformat_minor": 0,
  "metadata": {
    "colab": {
      "name": "Untitled11.ipynb",
      "provenance": [],
      "mount_file_id": "1uN8DMbfDwCW1rQk-RiI09otZsV2ugQDZ",
      "authorship_tag": "ABX9TyNtkLC+V8gMlkjfmkmZE435",
      "include_colab_link": true
    },
    "kernelspec": {
      "name": "python3",
      "display_name": "Python 3"
    }
  },
  "cells": [
    {
      "cell_type": "markdown",
      "metadata": {
        "id": "view-in-github",
        "colab_type": "text"
      },
      "source": [
        "<a href=\"https://colab.research.google.com/github/jeongsangryeol/Sang-Ryeol/blob/master/Untitled11.ipynb\" target=\"_parent\"><img src=\"https://colab.research.google.com/assets/colab-badge.svg\" alt=\"Open In Colab\"/></a>"
      ]
    },
    {
      "cell_type": "code",
      "metadata": {
        "id": "Wwi7-rn5VAOt",
        "colab_type": "code",
        "colab": {}
      },
      "source": [
        "import matplotlib.pyplot as plt\n",
        "%matplotlib inline "
      ],
      "execution_count": 0,
      "outputs": []
    },
    {
      "cell_type": "code",
      "metadata": {
        "id": "3fNhBkfsPpnA",
        "colab_type": "code",
        "colab": {}
      },
      "source": [
        "class Rectangle(object):\n",
        "  def __init__(self, width, height, color):\n",
        "    self.width = width\n",
        "    self.height = height\n",
        "    self.color = color \n",
        "  \n",
        "  def drawRectangle(self):\n",
        "    plt.gca().add_patch(plt.Rectangle((0,0), self.width, self.height, fc = self.color))\n",
        "    plt.axis('scaled')\n",
        "    plt.show()"
      ],
      "execution_count": 0,
      "outputs": []
    },
    {
      "cell_type": "code",
      "metadata": {
        "id": "yBRIfK8ZXp6E",
        "colab_type": "code",
        "outputId": "fa811fc6-3103-4867-ae09-73f36d17ed07",
        "colab": {
          "base_uri": "https://localhost:8080/",
          "height": 125
        }
      },
      "source": [
        "from google.colab import drive\n",
        "drive.mount('/content/drive')"
      ],
      "execution_count": 0,
      "outputs": [
        {
          "output_type": "stream",
          "text": [
            "Go to this URL in a browser: https://accounts.google.com/o/oauth2/auth?client_id=947318989803-6bn6qk8qdgf4n4g3pfee6491hc0brc4i.apps.googleusercontent.com&redirect_uri=urn%3aietf%3awg%3aoauth%3a2.0%3aoob&response_type=code&scope=email%20https%3a%2f%2fwww.googleapis.com%2fauth%2fdocs.test%20https%3a%2f%2fwww.googleapis.com%2fauth%2fdrive%20https%3a%2f%2fwww.googleapis.com%2fauth%2fdrive.photos.readonly%20https%3a%2f%2fwww.googleapis.com%2fauth%2fpeopleapi.readonly\n",
            "\n",
            "Enter your authorization code:\n",
            "··········\n",
            "Mounted at /content/drive\n"
          ],
          "name": "stdout"
        }
      ]
    },
    {
      "cell_type": "code",
      "metadata": {
        "id": "OtL5LbsSXrNr",
        "colab_type": "code",
        "colab": {}
      },
      "source": [
        "example1 =\"/content/drive/My Drive/example1.txt\" \n",
        "file1 = open(example1, \"r\")"
      ],
      "execution_count": 0,
      "outputs": []
    },
    {
      "cell_type": "code",
      "metadata": {
        "id": "-ndcAecQYIzQ",
        "colab_type": "code",
        "outputId": "b8502064-a721-452f-f8a3-00a18a972837",
        "colab": {
          "base_uri": "https://localhost:8080/",
          "height": 105
        }
      },
      "source": [
        "FileContent = file1.read() \n",
        "print(FileContent)"
      ],
      "execution_count": 0,
      "outputs": [
        {
          "output_type": "stream",
          "text": [
            "\tcolor\tradius\n",
            "A\tred\t3\n",
            "B\tblue\t5\n",
            "C\tgreen\t8\n",
            "\n"
          ],
          "name": "stdout"
        }
      ]
    },
    {
      "cell_type": "code",
      "metadata": {
        "id": "FQIrz3uNYv3w",
        "colab_type": "code",
        "colab": {}
      },
      "source": [
        "example2 =\"/content/drive/My Drive/example2.txt\" \n",
        "file2 = open(example2, \"r\")"
      ],
      "execution_count": 0,
      "outputs": []
    },
    {
      "cell_type": "code",
      "metadata": {
        "id": "S88NNTlfZ7oD",
        "colab_type": "code",
        "outputId": "5808b588-903b-414d-dcac-67e51a4eba23",
        "colab": {
          "base_uri": "https://localhost:8080/",
          "height": 105
        }
      },
      "source": [
        "FileContent = file2.read() \n",
        "print(FileContent)"
      ],
      "execution_count": 0,
      "outputs": [
        {
          "output_type": "stream",
          "text": [
            "\twidth\theight\tcolor\n",
            "D\t5\t3\tred\n",
            "E\t7\t5\tblue\n",
            "F\t9\t8\tgreen\n",
            "\n"
          ],
          "name": "stdout"
        }
      ]
    },
    {
      "cell_type": "code",
      "metadata": {
        "id": "DhE1EcngZ-yI",
        "colab_type": "code",
        "colab": {}
      },
      "source": [
        "class Circle(object): \n",
        "\n",
        "  def __init__(self, radius, color): \n",
        "    self.radius = radius\n",
        "    self.color = color \n",
        "\n",
        "  def add_radium(self, r):\n",
        "    self.radius = self.radius + r\n",
        "    return(self.radius)\n",
        "  \n",
        "  def drawCircle(self): \n",
        "    plt.gca().add_patch(plt.Circle((0,0), radius = self.radius, fc = self.color)) \n",
        "    plt.axis('scaled') \n",
        "    plt.show()"
      ],
      "execution_count": 0,
      "outputs": []
    },
    {
      "cell_type": "code",
      "metadata": {
        "id": "O-RVxpM3acWp",
        "colab_type": "code",
        "colab": {}
      },
      "source": [
        "RedCircle = Circle(3, 'red')"
      ],
      "execution_count": 0,
      "outputs": []
    },
    {
      "cell_type": "code",
      "metadata": {
        "id": "KY6vdlrobMgt",
        "colab_type": "code",
        "outputId": "4cbec665-b432-4685-ae0d-638380778b50",
        "colab": {
          "base_uri": "https://localhost:8080/",
          "height": 265
        }
      },
      "source": [
        "RedCircle.drawCircle()"
      ],
      "execution_count": 0,
      "outputs": [
        {
          "output_type": "display_data",
          "data": {
            "image/png": "[encoded data removed]",
            "text/plain": [
              "<Figure size 432x288 with 1 Axes>"
            ]
          },
          "metadata": {
            "tags": [],
            "needs_background": "light"
          }
        }
      ]
    },
    {
      "cell_type": "code",
      "metadata": {
        "id": "CbU0LFm-bRUi",
        "colab_type": "code",
        "colab": {}
      },
      "source": [
        "BlueCircle = Circle(5, 'blue')"
      ],
      "execution_count": 0,
      "outputs": []
    },
    {
      "cell_type": "code",
      "metadata": {
        "id": "oxkt98FycN-S",
        "colab_type": "code",
        "outputId": "da754071-d87f-4bfe-a5a2-e1a2b4e2f656",
        "colab": {
          "base_uri": "https://localhost:8080/",
          "height": 265
        }
      },
      "source": [
        "BlueCircle.drawCircle()"
      ],
      "execution_count": 0,
      "outputs": [
        {
          "output_type": "display_data",
          "data": {
            "image/png": "[encoded data removed]",
            "text/plain": [
              "<Figure size 432x288 with 1 Axes>"
            ]
          },
          "metadata": {
            "tags": [],
            "needs_background": "light"
          }
        }
      ]
    },
    {
      "cell_type": "code",
      "metadata": {
        "id": "GdFGYff3cRVc",
        "colab_type": "code",
        "colab": {}
      },
      "source": [
        "GreenCircle = Circle(8,'green')"
      ],
      "execution_count": 0,
      "outputs": []
    },
    {
      "cell_type": "code",
      "metadata": {
        "id": "mB5j908jcwCk",
        "colab_type": "code",
        "outputId": "f62c3cea-5d1a-4ec6-821f-8349f8f89119",
        "colab": {
          "base_uri": "https://localhost:8080/",
          "height": 265
        }
      },
      "source": [
        "GreenCircle.drawCircle()"
      ],
      "execution_count": 0,
      "outputs": [
        {
          "output_type": "display_data",
          "data": {
            "image/png": "[encoded data removed]",
            "text/plain": [
              "<Figure size 432x288 with 1 Axes>"
            ]
          },
          "metadata": {
            "tags": [],
            "needs_background": "light"
          }
        }
      ]
    },
    {
      "cell_type": "code",
      "metadata": {
        "id": "zEjkW3VJcz2M",
        "colab_type": "code",
        "colab": {}
      },
      "source": [
        "class Rectangle(object):\n",
        "\n",
        "  def __init__(self, width, height, color):\n",
        "    self.width = width\n",
        "    self.height = height\n",
        "    self.color = color \n",
        "  \n",
        "  def drawRectangle(self):\n",
        "    plt.gca().add_patch(plt.Rectangle((0,0), self.width, self.height, fc = self.color))\n",
        "    plt.axis('scaled')\n",
        "    plt.show()"
      ],
      "execution_count": 0,
      "outputs": []
    },
    {
      "cell_type": "code",
      "metadata": {
        "id": "SlFR-7byc5wy",
        "colab_type": "code",
        "colab": {}
      },
      "source": [
        "RedRectangle = Rectangle(5,3,'red')"
      ],
      "execution_count": 0,
      "outputs": []
    },
    {
      "cell_type": "code",
      "metadata": {
        "id": "IIiDCTcydCsi",
        "colab_type": "code",
        "outputId": "9680f8de-896a-4d4f-cfaf-6f31a74d7111",
        "colab": {
          "base_uri": "https://localhost:8080/",
          "height": 249
        }
      },
      "source": [
        "RedRectangle.drawRectangle()"
      ],
      "execution_count": 0,
      "outputs": [
        {
          "output_type": "display_data",
          "data": {
            "image/png": "[encoded data removed]",
            "text/plain": [
              "<Figure size 432x288 with 1 Axes>"
            ]
          },
          "metadata": {
            "tags": [],
            "needs_background": "light"
          }
        }
      ]
    },
    {
      "cell_type": "code",
      "metadata": {
        "id": "o7m8a8JldG7D",
        "colab_type": "code",
        "colab": {}
      },
      "source": [
        "BlueRectangle = Rectangle(7,5,'blue')"
      ],
      "execution_count": 0,
      "outputs": []
    },
    {
      "cell_type": "code",
      "metadata": {
        "id": "5aow7LB2dQWf",
        "colab_type": "code",
        "outputId": "9aef6a98-e36d-4e2d-ffa0-d7d56829726f",
        "colab": {
          "base_uri": "https://localhost:8080/",
          "height": 265
        }
      },
      "source": [
        "BlueRectangle.drawRectangle()"
      ],
      "execution_count": 0,
      "outputs": [
        {
          "output_type": "display_data",
          "data": {
            "image/png": "[encoded data removed]",
            "text/plain": [
              "<Figure size 432x288 with 1 Axes>"
            ]
          },
          "metadata": {
            "tags": [],
            "needs_background": "light"
          }
        }
      ]
    },
    {
      "cell_type": "code",
      "metadata": {
        "id": "4yAwzMmNdTs-",
        "colab_type": "code",
        "colab": {}
      },
      "source": [
        "GreenRectangle = Rectangle(9,8,'green')"
      ],
      "execution_count": 0,
      "outputs": []
    },
    {
      "cell_type": "code",
      "metadata": {
        "id": "YwtqNGb6dZly",
        "colab_type": "code",
        "outputId": "9f601e2d-4081-4bc7-c537-1a128db8e6f1",
        "colab": {
          "base_uri": "https://localhost:8080/",
          "height": 265
        }
      },
      "source": [
        "GreenRectangle.drawRectangle()"
      ],
      "execution_count": 0,
      "outputs": [
        {
          "output_type": "display_data",
          "data": {
            "image/png": "[encoded data removed]",
            "text/plain": [
              "<Figure size 432x288 with 1 Axes>"
            ]
          },
          "metadata": {
            "tags": [],
            "needs_background": "light"
          }
        }
      ]
    },
    {
      "cell_type": "code",
      "metadata": {
        "id": "QdByfu8Tpinn",
        "colab_type": "code",
        "outputId": "e4bd7312-86fc-4585-acbd-627e3361a038",
        "colab": {
          "base_uri": "https://localhost:8080/",
          "height": 52
        }
      },
      "source": [
        "r = float(input(\"radius\"))\n",
        "s = 3.141592*r**2\n",
        "print(\"area:\", s)"
      ],
      "execution_count": 0,
      "outputs": [
        {
          "output_type": "stream",
          "text": [
            "radius1\n",
            "area: 3.141592\n"
          ],
          "name": "stdout"
        }
      ]
    },
    {
      "cell_type": "code",
      "metadata": {
        "id": "idtvcvuBvybk",
        "colab_type": "code",
        "outputId": "8af1e1ae-4361-4b87-b82a-11295be938ba",
        "colab": {
          "base_uri": "https://localhost:8080/",
          "height": 34
        }
      },
      "source": [
        "class Triangle(object):\n",
        "    \n",
        "    def __init__(self, b, h):\n",
        "        self.b = b\n",
        "        self.h = h\n",
        "    \n",
        "    def area(self):\n",
        "        return self.b * self.h / 2\n",
        "\n",
        "t = Triangle(10, 20)\n",
        "a = t.area()\n",
        "\n",
        "print(a)"
      ],
      "execution_count": 0,
      "outputs": [
        {
          "output_type": "stream",
          "text": [
            "100.0\n"
          ],
          "name": "stdout"
        }
      ]
    }
  ]
}