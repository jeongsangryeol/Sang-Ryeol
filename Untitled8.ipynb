{
  "nbformat": 4,
  "nbformat_minor": 0,
  "metadata": {
    "colab": {
      "name": "Untitled8.ipynb",
      "provenance": [],
      "authorship_tag": "ABX9TyNKDNZ4IDvGRYEqjGLxW0U9",
      "include_colab_link": true
    },
    "kernelspec": {
      "name": "python3",
      "display_name": "Python 3"
    }
  },
  "cells": [
    {
      "cell_type": "markdown",
      "metadata": {
        "id": "view-in-github",
        "colab_type": "text"
      },
      "source": [
        "<a href=\"https://colab.research.google.com/github/jeongsangryeol/Sang-Ryeol/blob/master/Untitled8.ipynb\" target=\"_parent\"><img src=\"https://colab.research.google.com/assets/colab-badge.svg\" alt=\"Open In Colab\"/></a>"
      ]
    },
    {
      "cell_type": "code",
      "metadata": {
        "id": "ssCGujOvrdzR",
        "colab_type": "code",
        "outputId": "12ebe526-2e9e-405b-a882-a348167ac081",
        "colab": {
          "base_uri": "https://localhost:8080/",
          "height": 87
        }
      },
      "source": [
        "a = [1, \"hello\", [1,2,3],'true']\n",
        "print(a[1])\n",
        "print(a[1:3])\n",
        "A = [1,'a']\n",
        "B = [2,1,'d']\n",
        "print(A)\n",
        "C = a + A + B\n",
        "print(C)"
      ],
      "execution_count": 0,
      "outputs": [
        {
          "output_type": "stream",
          "text": [
            "hello\n",
            "['hello', [1, 2, 3]]\n",
            "[1, 'a']\n",
            "[1, 'hello', [1, 2, 3], 'true', 1, 'a', 2, 1, 'd']\n"
          ],
          "name": "stdout"
        }
      ]
    },
    {
      "cell_type": "code",
      "metadata": {
        "id": "uyuIoZSLsRai",
        "colab_type": "code",
        "colab": {}
      },
      "source": [
        "release_year_dict = {\"The Bodyguard\":\"1992\", \"Saturday Night Fever\":\"1977\"}\n"
      ],
      "execution_count": 0,
      "outputs": []
    },
    {
      "cell_type": "code",
      "metadata": {
        "id": "CklbwzpZsidf",
        "colab_type": "code",
        "outputId": "2ada0086-2a00-439c-99a2-87e6307d8d92",
        "colab": {
          "base_uri": "https://localhost:8080/",
          "height": 34
        }
      },
      "source": [
        "release_year_dict[\"The Bodyguard\"]"
      ],
      "execution_count": 0,
      "outputs": [
        {
          "output_type": "execute_result",
          "data": {
            "text/plain": [
              "'1992'"
            ]
          },
          "metadata": {
            "tags": []
          },
          "execution_count": 45
        }
      ]
    },
    {
      "cell_type": "code",
      "metadata": {
        "id": "xKI92VsLILlg",
        "colab_type": "code",
        "outputId": "1d5ee7f9-d738-417f-f31e-90ae7668569f",
        "colab": {
          "base_uri": "https://localhost:8080/",
          "height": 34
        }
      },
      "source": [
        "release_year_dict[\"Saturday Night Fever\"]"
      ],
      "execution_count": 0,
      "outputs": [
        {
          "output_type": "execute_result",
          "data": {
            "text/plain": [
              "'1977'"
            ]
          },
          "metadata": {
            "tags": []
          },
          "execution_count": 46
        }
      ]
    },
    {
      "cell_type": "code",
      "metadata": {
        "id": "RLndQr1yITgS",
        "colab_type": "code",
        "colab": {}
      },
      "source": [
        "dict_keys = release_year_dict.keys()"
      ],
      "execution_count": 0,
      "outputs": []
    },
    {
      "cell_type": "code",
      "metadata": {
        "id": "d1c8ThGxIa0f",
        "colab_type": "code",
        "outputId": "6acc2402-5ef7-420d-c957-a80cbed3125e",
        "colab": {
          "base_uri": "https://localhost:8080/",
          "height": 34
        }
      },
      "source": [
        "print(dict_keys)"
      ],
      "execution_count": 0,
      "outputs": [
        {
          "output_type": "stream",
          "text": [
            "dict_keys(['The Bodyguard', 'Saturday Night Fever'])\n"
          ],
          "name": "stdout"
        }
      ]
    },
    {
      "cell_type": "code",
      "metadata": {
        "id": "1BzbKeQSIde3",
        "colab_type": "code",
        "colab": {}
      },
      "source": [
        "dict_values = release_year_dict.values()\n"
      ],
      "execution_count": 0,
      "outputs": []
    },
    {
      "cell_type": "code",
      "metadata": {
        "id": "diDfoLFIIzo9",
        "colab_type": "code",
        "outputId": "c7ffe72a-1f31-4458-b42c-c9040db7d382",
        "colab": {
          "base_uri": "https://localhost:8080/",
          "height": 34
        }
      },
      "source": [
        "dict_values"
      ],
      "execution_count": 0,
      "outputs": [
        {
          "output_type": "execute_result",
          "data": {
            "text/plain": [
              "dict_values(['1992', '1977'])"
            ]
          },
          "metadata": {
            "tags": []
          },
          "execution_count": 50
        }
      ]
    },
    {
      "cell_type": "code",
      "metadata": {
        "id": "Yi2PtySWI2Vk",
        "colab_type": "code",
        "outputId": "95a9e6d9-4d52-4a49-b914-18287444e0d1",
        "colab": {
          "base_uri": "https://localhost:8080/",
          "height": 87
        }
      },
      "source": [
        "F =  ['rap','house','electronic music', 'rap']\n",
        "A =[1,2,2,1] \n",
        "B = set([1,2,2,1])\n",
        "print(sum(A))\n",
        "print(sum(B))\n",
        "album_set1 = set([\"Thriller\", 'AC/DC', 'Back in Black'])\n",
        "album_set2 = set([ \"AC/DC\", \"Back in Black\", \"The Dark Side of the Moon\"])\n",
        "album_set3 = album_set1.union(album_set2)\n",
        "print(album_set3)\n",
        "album_set1.issubset(album_set3)"
      ],
      "execution_count": 0,
      "outputs": [
        {
          "output_type": "stream",
          "text": [
            "6\n",
            "3\n",
            "{'Back in Black', 'The Dark Side of the Moon', 'AC/DC', 'Thriller'}\n"
          ],
          "name": "stdout"
        },
        {
          "output_type": "execute_result",
          "data": {
            "text/plain": [
              "True"
            ]
          },
          "metadata": {
            "tags": []
          },
          "execution_count": 54
        }
      ]
    },
    {
      "cell_type": "code",
      "metadata": {
        "id": "Z8oBG_rkPAlM",
        "colab_type": "code",
        "colab": {}
      },
      "source": [
        "Dict ={\"Artist name\":\"Michael\", \"Genre\": \"R&B\", \"Sales\": 10000}"
      ],
      "execution_count": 0,
      "outputs": []
    },
    {
      "cell_type": "code",
      "metadata": {
        "id": "vcKZocH8TgON",
        "colab_type": "code",
        "outputId": "a0f3e9d7-214e-4048-bd9a-c6423c2109c6",
        "colab": {
          "base_uri": "https://localhost:8080/",
          "height": 134
        }
      },
      "source": [
        "\n",
        "Dict ={\"album artist\" :\"Michael\", \"Genre\": \"R&B\", \"Sales\": 10000}\n",
        "if((album_artist == \"Michael\")\n",
        "    print(\"genre\")\n",
        "  if((album_artist == \"Michael\") \n",
        "    print(\"False\")\n",
        "else:\n",
        "  print(\"The album was not released in 2010s\")"
      ],
      "execution_count": 131,
      "outputs": [
        {
          "output_type": "error",
          "ename": "SyntaxError",
          "evalue": "ignored",
          "traceback": [
            "\u001b[0;36m  File \u001b[0;32m\"<ipython-input-131-e77f5053da2c>\"\u001b[0;36m, line \u001b[0;32m4\u001b[0m\n\u001b[0;31m    print(\"genre\")\u001b[0m\n\u001b[0m        ^\u001b[0m\n\u001b[0;31mSyntaxError\u001b[0m\u001b[0;31m:\u001b[0m invalid syntax\n"
          ]
        }
      ]
    },
    {
      "cell_type": "code",
      "metadata": {
        "id": "d-oqinWkUdLz",
        "colab_type": "code",
        "outputId": "2446ebbc-3a1c-40a7-bd3a-65cc9e6ff8bb",
        "colab": {
          "base_uri": "https://localhost:8080/",
          "height": 134
        }
      },
      "source": [
        "def sum(x) : \n",
        "y-x = 32\n",
        "return y\n",
        "\n",
        "a= cal(1) \n",
        "print(a)"
      ],
      "execution_count": 124,
      "outputs": [
        {
          "output_type": "error",
          "ename": "IndentationError",
          "evalue": "ignored",
          "traceback": [
            "\u001b[0;36m  File \u001b[0;32m\"<ipython-input-124-3b7d141526bb>\"\u001b[0;36m, line \u001b[0;32m2\u001b[0m\n\u001b[0;31m    y-x = 32\u001b[0m\n\u001b[0m    ^\u001b[0m\n\u001b[0;31mIndentationError\u001b[0m\u001b[0;31m:\u001b[0m expected an indented block\n"
          ]
        }
      ]
    },
    {
      "cell_type": "code",
      "metadata": {
        "id": "dHttdROYsJ6L",
        "colab_type": "code",
        "outputId": "73d4606d-969c-432b-91eb-6d5fe378c4cb",
        "colab": {
          "base_uri": "https://localhost:8080/",
          "height": 140
        }
      },
      "source": [
        "L = [1, 2, 3, 5, 9, 31, 28]\n",
        "\n",
        "for number in L :\n",
        "  if number % 2 == 1:\n",
        "    print(number, \"odd.\")\n",
        "  else :\n",
        "    print(number, \"even.\")  \n",
        "  "
      ],
      "execution_count": 111,
      "outputs": [
        {
          "output_type": "stream",
          "text": [
            "1 odd.\n",
            "2 even.\n",
            "3 odd.\n",
            "5 odd.\n",
            "9 odd.\n",
            "31 odd.\n",
            "28 even.\n"
          ],
          "name": "stdout"
        }
      ]
    },
    {
      "cell_type": "code",
      "metadata": {
        "id": "T8eUbGVFuC5E",
        "colab_type": "code",
        "colab": {
          "base_uri": "https://localhost:8080/",
          "height": 87
        },
        "outputId": "6f18c562-85c8-4c64-ac65-f7f70f86987f"
      },
      "source": [
        "numbers = [1, 2, 3, 5, 9, 31, 28]\n",
        "\n",
        "\n",
        "print(list(filter(lambda x : x%2 ==1, numbers)))\n",
        "print()\n",
        "\n",
        "print(list(filter(lambda x : x%2 ==0, numbers)))\n",
        "print()"
      ],
      "execution_count": 113,
      "outputs": [
        {
          "output_type": "stream",
          "text": [
            "[1, 3, 5, 9, 31]\n",
            "\n",
            "[2, 28]\n",
            "\n"
          ],
          "name": "stdout"
        }
      ]
    },
    {
      "cell_type": "code",
      "metadata": {
        "id": "iA65ICEu5NFi",
        "colab_type": "code",
        "colab": {}
      },
      "source": [
        ""
      ],
      "execution_count": 0,
      "outputs": []
    }
  ]
}